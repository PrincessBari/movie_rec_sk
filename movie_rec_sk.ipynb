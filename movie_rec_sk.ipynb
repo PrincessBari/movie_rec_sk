{
 "cells": [
  {
   "cell_type": "markdown",
   "id": "4cf83a24-d880-4531-b207-a3e79bddb90e",
   "metadata": {},
   "source": [
    "We'll be creating a user-item collaborative filtering recommendation system using MovieLens data. We've downloaded a ratings dataset and a movies dataset from https://grouplens.org/datasets/movielens/. Out of the various datasets available, we're working with the one labeled \"recommended for education and development\" which, according to the source website, has approximately 100k ratings and 9k movies by 600 users."
   ]
  },
  {
   "cell_type": "code",
   "execution_count": 1,
   "id": "cdbb45a9-ef1f-4555-9981-40abfd5e74e8",
   "metadata": {},
   "outputs": [],
   "source": [
    "import numpy as np\n",
    "import pandas as pd\n",
    "import sklearn\n",
    "import matplotlib.pyplot as plt\n",
    "import seaborn as sns"
   ]
  },
  {
   "cell_type": "markdown",
   "id": "8e682a1a-7bee-4d67-970a-dd20d8fa08a7",
   "metadata": {},
   "source": [
    "Let's take a look at the ratings dataset:"
   ]
  },
  {
   "cell_type": "code",
   "execution_count": 4,
   "id": "aa1be20d-ebd0-434a-aedf-d04e89b6ec3c",
   "metadata": {},
   "outputs": [
    {
     "data": {
      "text/html": [
       "<div>\n",
       "<style scoped>\n",
       "    .dataframe tbody tr th:only-of-type {\n",
       "        vertical-align: middle;\n",
       "    }\n",
       "\n",
       "    .dataframe tbody tr th {\n",
       "        vertical-align: top;\n",
       "    }\n",
       "\n",
       "    .dataframe thead th {\n",
       "        text-align: right;\n",
       "    }\n",
       "</style>\n",
       "<table border=\"1\" class=\"dataframe\">\n",
       "  <thead>\n",
       "    <tr style=\"text-align: right;\">\n",
       "      <th></th>\n",
       "      <th>userId</th>\n",
       "      <th>movieId</th>\n",
       "      <th>rating</th>\n",
       "      <th>timestamp</th>\n",
       "    </tr>\n",
       "  </thead>\n",
       "  <tbody>\n",
       "    <tr>\n",
       "      <th>100831</th>\n",
       "      <td>610</td>\n",
       "      <td>166534</td>\n",
       "      <td>4.0</td>\n",
       "      <td>1493848402</td>\n",
       "    </tr>\n",
       "    <tr>\n",
       "      <th>100832</th>\n",
       "      <td>610</td>\n",
       "      <td>168248</td>\n",
       "      <td>5.0</td>\n",
       "      <td>1493850091</td>\n",
       "    </tr>\n",
       "    <tr>\n",
       "      <th>100833</th>\n",
       "      <td>610</td>\n",
       "      <td>168250</td>\n",
       "      <td>5.0</td>\n",
       "      <td>1494273047</td>\n",
       "    </tr>\n",
       "    <tr>\n",
       "      <th>100834</th>\n",
       "      <td>610</td>\n",
       "      <td>168252</td>\n",
       "      <td>5.0</td>\n",
       "      <td>1493846352</td>\n",
       "    </tr>\n",
       "    <tr>\n",
       "      <th>100835</th>\n",
       "      <td>610</td>\n",
       "      <td>170875</td>\n",
       "      <td>3.0</td>\n",
       "      <td>1493846415</td>\n",
       "    </tr>\n",
       "  </tbody>\n",
       "</table>\n",
       "</div>"
      ],
      "text/plain": [
       "        userId  movieId  rating   timestamp\n",
       "100831     610   166534     4.0  1493848402\n",
       "100832     610   168248     5.0  1493850091\n",
       "100833     610   168250     5.0  1494273047\n",
       "100834     610   168252     5.0  1493846352\n",
       "100835     610   170875     3.0  1493846415"
      ]
     },
     "execution_count": 4,
     "metadata": {},
     "output_type": "execute_result"
    }
   ],
   "source": [
    "ratings = pd.read_csv('[filepath]/file.csv')\n",
    "ratings.head()\n",
    "ratings.tail()\n",
    "# the columns are 'userId', 'movieId', 'rating', 'timestamp'\n",
    "# there are 100836 rows in this dataset (numbered 0-100835)"
   ]
  },
  {
   "cell_type": "markdown",
   "id": "4e1543be-719b-4b87-837d-c9e7bbf3bb85",
   "metadata": {},
   "source": [
    "Now let's look at the movies dataset:"
   ]
  },
  {
   "cell_type": "code",
   "execution_count": 6,
   "id": "7b24f680-5279-4a85-b96a-f0127dcc01d8",
   "metadata": {},
   "outputs": [
    {
     "data": {
      "text/html": [
       "<div>\n",
       "<style scoped>\n",
       "    .dataframe tbody tr th:only-of-type {\n",
       "        vertical-align: middle;\n",
       "    }\n",
       "\n",
       "    .dataframe tbody tr th {\n",
       "        vertical-align: top;\n",
       "    }\n",
       "\n",
       "    .dataframe thead th {\n",
       "        text-align: right;\n",
       "    }\n",
       "</style>\n",
       "<table border=\"1\" class=\"dataframe\">\n",
       "  <thead>\n",
       "    <tr style=\"text-align: right;\">\n",
       "      <th></th>\n",
       "      <th>movieId</th>\n",
       "      <th>title</th>\n",
       "      <th>genres</th>\n",
       "    </tr>\n",
       "  </thead>\n",
       "  <tbody>\n",
       "    <tr>\n",
       "      <th>9737</th>\n",
       "      <td>193581</td>\n",
       "      <td>Black Butler: Book of the Atlantic (2017)</td>\n",
       "      <td>Action|Animation|Comedy|Fantasy</td>\n",
       "    </tr>\n",
       "    <tr>\n",
       "      <th>9738</th>\n",
       "      <td>193583</td>\n",
       "      <td>No Game No Life: Zero (2017)</td>\n",
       "      <td>Animation|Comedy|Fantasy</td>\n",
       "    </tr>\n",
       "    <tr>\n",
       "      <th>9739</th>\n",
       "      <td>193585</td>\n",
       "      <td>Flint (2017)</td>\n",
       "      <td>Drama</td>\n",
       "    </tr>\n",
       "    <tr>\n",
       "      <th>9740</th>\n",
       "      <td>193587</td>\n",
       "      <td>Bungo Stray Dogs: Dead Apple (2018)</td>\n",
       "      <td>Action|Animation</td>\n",
       "    </tr>\n",
       "    <tr>\n",
       "      <th>9741</th>\n",
       "      <td>193609</td>\n",
       "      <td>Andrew Dice Clay: Dice Rules (1991)</td>\n",
       "      <td>Comedy</td>\n",
       "    </tr>\n",
       "  </tbody>\n",
       "</table>\n",
       "</div>"
      ],
      "text/plain": [
       "      movieId                                      title  \\\n",
       "9737   193581  Black Butler: Book of the Atlantic (2017)   \n",
       "9738   193583               No Game No Life: Zero (2017)   \n",
       "9739   193585                               Flint (2017)   \n",
       "9740   193587        Bungo Stray Dogs: Dead Apple (2018)   \n",
       "9741   193609        Andrew Dice Clay: Dice Rules (1991)   \n",
       "\n",
       "                               genres  \n",
       "9737  Action|Animation|Comedy|Fantasy  \n",
       "9738         Animation|Comedy|Fantasy  \n",
       "9739                            Drama  \n",
       "9740                 Action|Animation  \n",
       "9741                           Comedy  "
      ]
     },
     "execution_count": 6,
     "metadata": {},
     "output_type": "execute_result"
    }
   ],
   "source": [
    "movies = pd.read_csv('[filepath]/file.csv')\n",
    "movies.head()\n",
    "movies.tail()\n",
    "# the columns are 'movieId', 'title', 'genres'\n",
    "# there were 9742 rows (numbered 0-9741)"
   ]
  },
  {
   "cell_type": "markdown",
   "id": "817a5d82-544c-470a-9719-38f1ce08a584",
   "metadata": {},
   "source": [
    "Exploring the ratings dataset first, let's see how many ratings, unique movies, and unique users we have:"
   ]
  },
  {
   "cell_type": "code",
   "execution_count": 7,
   "id": "7516a9b5-e33c-4a65-9e8e-7851f5548e9e",
   "metadata": {},
   "outputs": [
    {
     "name": "stdout",
     "output_type": "stream",
     "text": [
      "Total number of ratings: 100836\n",
      "\n",
      "Amount of unique movieId's: 9724\n",
      "Amount of unique users: 610\n",
      "\n",
      "Average number of ratings per user: 165.3\n",
      "Average number of ratings per movie: 10.37\n"
     ]
    }
   ],
   "source": [
    "total_ratings = len(ratings)\n",
    "unique_movies = ratings['movieId'].nunique()\n",
    "unique_users = ratings['userId'].nunique()\n",
    "\n",
    "print(f\"Total number of ratings: {total_ratings}\\n\")\n",
    "print(f\"Amount of unique movieId's: {unique_movies}\")\n",
    "print(f\"Amount of unique users: {unique_users}\\n\")\n",
    "print(f\"Average number of ratings per user: {round(total_ratings/unique_users, 2)}\")\n",
    "print(f\"Average number of ratings per movie: {round(total_ratings/unique_movies, 2)}\")"
   ]
  },
  {
   "cell_type": "markdown",
   "id": "6b8704e5-388f-411e-aae9-147518e1dccc",
   "metadata": {},
   "source": [
    "We should also look at how many ratings each user made since it probably varies:"
   ]
  },
  {
   "cell_type": "code",
   "execution_count": 8,
   "id": "6b0f43f6-2fc7-480a-9bbd-bbdaa51b986a",
   "metadata": {},
   "outputs": [
    {
     "data": {
      "text/html": [
       "<div>\n",
       "<style scoped>\n",
       "    .dataframe tbody tr th:only-of-type {\n",
       "        vertical-align: middle;\n",
       "    }\n",
       "\n",
       "    .dataframe tbody tr th {\n",
       "        vertical-align: top;\n",
       "    }\n",
       "\n",
       "    .dataframe thead th {\n",
       "        text-align: right;\n",
       "    }\n",
       "</style>\n",
       "<table border=\"1\" class=\"dataframe\">\n",
       "  <thead>\n",
       "    <tr style=\"text-align: right;\">\n",
       "      <th></th>\n",
       "      <th>userId</th>\n",
       "      <th>unique_ratings</th>\n",
       "    </tr>\n",
       "  </thead>\n",
       "  <tbody>\n",
       "    <tr>\n",
       "      <th>605</th>\n",
       "      <td>606</td>\n",
       "      <td>1115</td>\n",
       "    </tr>\n",
       "    <tr>\n",
       "      <th>606</th>\n",
       "      <td>607</td>\n",
       "      <td>187</td>\n",
       "    </tr>\n",
       "    <tr>\n",
       "      <th>607</th>\n",
       "      <td>608</td>\n",
       "      <td>831</td>\n",
       "    </tr>\n",
       "    <tr>\n",
       "      <th>608</th>\n",
       "      <td>609</td>\n",
       "      <td>37</td>\n",
       "    </tr>\n",
       "    <tr>\n",
       "      <th>609</th>\n",
       "      <td>610</td>\n",
       "      <td>1302</td>\n",
       "    </tr>\n",
       "  </tbody>\n",
       "</table>\n",
       "</div>"
      ],
      "text/plain": [
       "     userId  unique_ratings\n",
       "605     606            1115\n",
       "606     607             187\n",
       "607     608             831\n",
       "608     609              37\n",
       "609     610            1302"
      ]
     },
     "execution_count": 8,
     "metadata": {},
     "output_type": "execute_result"
    }
   ],
   "source": [
    "user_occurs = ratings[['userId', 'movieId']].groupby('userId').count().reset_index()\n",
    "user_occurs.columns = ['userId', 'unique_ratings']\n",
    "user_occurs.head()\n",
    "user_occurs.tail()\n",
    "# there are 610 rows (numbered 0-609)"
   ]
  },
  {
   "cell_type": "code",
   "execution_count": 9,
   "id": "2879c049-3b45-48e7-93d5-a68905be411f",
   "metadata": {},
   "outputs": [
    {
     "name": "stdout",
     "output_type": "stream",
     "text": [
      "The mean (or average) number of ratings for a user: 165.30.\n"
     ]
    }
   ],
   "source": [
    "print(f\"The mean (or average) number of ratings for a user: {user_occurs['unique_ratings'].mean():.2f}.\")"
   ]
  },
  {
   "cell_type": "markdown",
   "id": "538ee943-a66f-46e2-9266-d0f54e71d145",
   "metadata": {},
   "source": [
    "We can visualize how the ratings are distributed across the board:"
   ]
  },
  {
   "cell_type": "code",
   "execution_count": 10,
   "id": "f08fb51e-5b73-4afb-bc5d-88238ae59c6e",
   "metadata": {},
   "outputs": [
    {
     "data": {
      "text/plain": [
       "Text(0.5, 1.0, 'Movie Ratings Distribution')"
      ]
     },
     "execution_count": 10,
     "metadata": {},
     "output_type": "execute_result"
    },
    {
     "data": {
      "image/png": "[encoded data removed]",
      "text/plain": [
       "<Figure size 1000x300 with 1 Axes>"
      ]
     },
     "metadata": {},
     "output_type": "display_data"
    }
   ],
   "source": [
    "sns.set_style(\"darkgrid\")\n",
    "plt.figure(figsize = (10,3))\n",
    "plt.subplot(1,2,1)\n",
    "ax = sns.countplot(x = \"rating\", data = ratings, palette = \"flare\")\n",
    "plt.title(\"Movie Ratings Distribution\")"
   ]
  },
  {
   "cell_type": "markdown",
   "id": "0412e469-27cb-4faf-b87b-08ef4b942d09",
   "metadata": {},
   "source": [
    "So 4.0 is the rating most commonly given. "
   ]
  },
  {
   "cell_type": "markdown",
   "id": "dc69b84e-6729-4f47-bd1a-ad9255e4f447",
   "metadata": {},
   "source": [
    "We can also take a look at which movies have the lowest and highest ratings:"
   ]
  },
  {
   "cell_type": "code",
   "execution_count": 11,
   "id": "a375f047-51bf-48f4-9a3e-5e2a1f0c0e85",
   "metadata": {},
   "outputs": [
    {
     "data": {
      "text/html": [
       "<div>\n",
       "<style scoped>\n",
       "    .dataframe tbody tr th:only-of-type {\n",
       "        vertical-align: middle;\n",
       "    }\n",
       "\n",
       "    .dataframe tbody tr th {\n",
       "        vertical-align: top;\n",
       "    }\n",
       "\n",
       "    .dataframe thead th {\n",
       "        text-align: right;\n",
       "    }\n",
       "</style>\n",
       "<table border=\"1\" class=\"dataframe\">\n",
       "  <thead>\n",
       "    <tr style=\"text-align: right;\">\n",
       "      <th></th>\n",
       "      <th>movieId</th>\n",
       "      <th>title</th>\n",
       "      <th>genres</th>\n",
       "    </tr>\n",
       "  </thead>\n",
       "  <tbody>\n",
       "    <tr>\n",
       "      <th>2689</th>\n",
       "      <td>3604</td>\n",
       "      <td>Gypsy (1962)</td>\n",
       "      <td>Musical</td>\n",
       "    </tr>\n",
       "  </tbody>\n",
       "</table>\n",
       "</div>"
      ],
      "text/plain": [
       "      movieId         title   genres\n",
       "2689     3604  Gypsy (1962)  Musical"
      ]
     },
     "execution_count": 11,
     "metadata": {},
     "output_type": "execute_result"
    }
   ],
   "source": [
    "avg_rating = ratings.groupby('movieId')[['rating']].mean()\n",
    "\n",
    "lowest_rating = avg_rating['rating'].idxmin()\n",
    "movies.loc[movies['movieId'] == lowest_rating]"
   ]
  },
  {
   "cell_type": "code",
   "execution_count": 12,
   "id": "797f052d-3445-4078-850a-48eaf878a376",
   "metadata": {},
   "outputs": [
    {
     "data": {
      "text/html": [
       "<div>\n",
       "<style scoped>\n",
       "    .dataframe tbody tr th:only-of-type {\n",
       "        vertical-align: middle;\n",
       "    }\n",
       "\n",
       "    .dataframe tbody tr th {\n",
       "        vertical-align: top;\n",
       "    }\n",
       "\n",
       "    .dataframe thead th {\n",
       "        text-align: right;\n",
       "    }\n",
       "</style>\n",
       "<table border=\"1\" class=\"dataframe\">\n",
       "  <thead>\n",
       "    <tr style=\"text-align: right;\">\n",
       "      <th></th>\n",
       "      <th>userId</th>\n",
       "      <th>movieId</th>\n",
       "      <th>rating</th>\n",
       "      <th>timestamp</th>\n",
       "    </tr>\n",
       "  </thead>\n",
       "  <tbody>\n",
       "    <tr>\n",
       "      <th>13633</th>\n",
       "      <td>89</td>\n",
       "      <td>3604</td>\n",
       "      <td>0.5</td>\n",
       "      <td>1520408880</td>\n",
       "    </tr>\n",
       "  </tbody>\n",
       "</table>\n",
       "</div>"
      ],
      "text/plain": [
       "       userId  movieId  rating   timestamp\n",
       "13633      89     3604     0.5  1520408880"
      ]
     },
     "execution_count": 12,
     "metadata": {},
     "output_type": "execute_result"
    }
   ],
   "source": [
    "ratings[ratings['movieId'] == lowest_rating]"
   ]
  },
  {
   "cell_type": "markdown",
   "id": "39a4edad-f0df-4c00-92eb-e0c03a4735ae",
   "metadata": {},
   "source": [
    "However, taking a look above, it's important to note that only ONE user rated \"Gypsy\" this very low rating of 0.5."
   ]
  },
  {
   "cell_type": "code",
   "execution_count": 13,
   "id": "24e3eed3-3e91-4632-b269-f6ba1c7de223",
   "metadata": {},
   "outputs": [
    {
     "data": {
      "text/html": [
       "<div>\n",
       "<style scoped>\n",
       "    .dataframe tbody tr th:only-of-type {\n",
       "        vertical-align: middle;\n",
       "    }\n",
       "\n",
       "    .dataframe tbody tr th {\n",
       "        vertical-align: top;\n",
       "    }\n",
       "\n",
       "    .dataframe thead th {\n",
       "        text-align: right;\n",
       "    }\n",
       "</style>\n",
       "<table border=\"1\" class=\"dataframe\">\n",
       "  <thead>\n",
       "    <tr style=\"text-align: right;\">\n",
       "      <th></th>\n",
       "      <th>movieId</th>\n",
       "      <th>title</th>\n",
       "      <th>genres</th>\n",
       "    </tr>\n",
       "  </thead>\n",
       "  <tbody>\n",
       "    <tr>\n",
       "      <th>48</th>\n",
       "      <td>53</td>\n",
       "      <td>Lamerica (1994)</td>\n",
       "      <td>Adventure|Drama</td>\n",
       "    </tr>\n",
       "  </tbody>\n",
       "</table>\n",
       "</div>"
      ],
      "text/plain": [
       "    movieId            title           genres\n",
       "48       53  Lamerica (1994)  Adventure|Drama"
      ]
     },
     "execution_count": 13,
     "metadata": {},
     "output_type": "execute_result"
    }
   ],
   "source": [
    "highest_rating = avg_rating['rating'].idxmax()\n",
    "movies.loc[movies['movieId'] == highest_rating]"
   ]
  },
  {
   "cell_type": "code",
   "execution_count": 14,
   "id": "4c4e7966-6fa8-49cd-9bc6-ada08f40dbfa",
   "metadata": {},
   "outputs": [
    {
     "data": {
      "text/html": [
       "<div>\n",
       "<style scoped>\n",
       "    .dataframe tbody tr th:only-of-type {\n",
       "        vertical-align: middle;\n",
       "    }\n",
       "\n",
       "    .dataframe tbody tr th {\n",
       "        vertical-align: top;\n",
       "    }\n",
       "\n",
       "    .dataframe thead th {\n",
       "        text-align: right;\n",
       "    }\n",
       "</style>\n",
       "<table border=\"1\" class=\"dataframe\">\n",
       "  <thead>\n",
       "    <tr style=\"text-align: right;\">\n",
       "      <th></th>\n",
       "      <th>userId</th>\n",
       "      <th>movieId</th>\n",
       "      <th>rating</th>\n",
       "      <th>timestamp</th>\n",
       "    </tr>\n",
       "  </thead>\n",
       "  <tbody>\n",
       "    <tr>\n",
       "      <th>13368</th>\n",
       "      <td>85</td>\n",
       "      <td>53</td>\n",
       "      <td>5.0</td>\n",
       "      <td>889468268</td>\n",
       "    </tr>\n",
       "    <tr>\n",
       "      <th>96115</th>\n",
       "      <td>603</td>\n",
       "      <td>53</td>\n",
       "      <td>5.0</td>\n",
       "      <td>963180003</td>\n",
       "    </tr>\n",
       "  </tbody>\n",
       "</table>\n",
       "</div>"
      ],
      "text/plain": [
       "       userId  movieId  rating  timestamp\n",
       "13368      85       53     5.0  889468268\n",
       "96115     603       53     5.0  963180003"
      ]
     },
     "execution_count": 14,
     "metadata": {},
     "output_type": "execute_result"
    }
   ],
   "source": [
    "ratings[ratings['movieId'] == highest_rating]"
   ]
  },
  {
   "cell_type": "markdown",
   "id": "40a5e59c-08d8-4e6d-ba9d-b00b8bd01bc8",
   "metadata": {},
   "source": [
    "Similarly to the lowest-rated movie, it's important to understand that only TWO users rated \"Lamerica\" at 5.0. So, it shouldn't be taken for granted as the \"best-rated\" film in the MovieLens dataset."
   ]
  },
  {
   "cell_type": "markdown",
   "id": "048a5641-c9a6-4cd1-9e09-ebabb2e63ba8",
   "metadata": {},
   "source": [
    "Taking a cue from the last four blocks of code, a better way to evaluate movie popularity, according to the statistics world, is to look at the Bayesian Average (https://arpitbhayani.me/blogs/bayesian-average) because it gives you a score adjusted by weight instead of just sorting by ratings:"
   ]
  },
  {
   "cell_type": "code",
   "execution_count": 15,
   "id": "0c54ed65-552d-4b0f-9d69-f8764c96f596",
   "metadata": {},
   "outputs": [],
   "source": [
    "movie_stats = ratings.groupby('movieId')[['rating']].agg(['count', 'mean'])\n",
    "movie_stats.columns = movie_stats.columns.droplevel()\n",
    "# df.droplevel() - Return Series/DataFrame with requested index / column level(s) removed"
   ]
  },
  {
   "cell_type": "code",
   "execution_count": 16,
   "id": "d8093829-5627-499c-ac01-a092836789ee",
   "metadata": {},
   "outputs": [],
   "source": [
    "C = movie_stats['count'].mean()\n",
    "m = movie_stats['mean'].mean()\n",
    "\n",
    "def bayes_avg(ratings):\n",
    "    bayes_avg = (C * m + ratings.sum()) / (C + ratings.count())\n",
    "    return bayes_avg\n",
    "\n",
    "bayes_avg_ratings = ratings.groupby('movieId')['rating'].agg(bayes_avg).reset_index()\n",
    "bayes_avg_ratings.columns = ['movieId', 'bayes_avg']\n",
    "movie_stats = movie_stats.merge(bayes_avg_ratings, on = 'movieId')"
   ]
  },
  {
   "cell_type": "code",
   "execution_count": 17,
   "id": "9a21451d-ab98-474f-97b3-3b8cfbd3a95c",
   "metadata": {},
   "outputs": [
    {
     "data": {
      "text/html": [
       "<div>\n",
       "<style scoped>\n",
       "    .dataframe tbody tr th:only-of-type {\n",
       "        vertical-align: middle;\n",
       "    }\n",
       "\n",
       "    .dataframe tbody tr th {\n",
       "        vertical-align: top;\n",
       "    }\n",
       "\n",
       "    .dataframe thead th {\n",
       "        text-align: right;\n",
       "    }\n",
       "</style>\n",
       "<table border=\"1\" class=\"dataframe\">\n",
       "  <thead>\n",
       "    <tr style=\"text-align: right;\">\n",
       "      <th></th>\n",
       "      <th>movieId</th>\n",
       "      <th>count</th>\n",
       "      <th>mean</th>\n",
       "      <th>bayes_avg</th>\n",
       "      <th>title</th>\n",
       "    </tr>\n",
       "  </thead>\n",
       "  <tbody>\n",
       "    <tr>\n",
       "      <th>277</th>\n",
       "      <td>318</td>\n",
       "      <td>317</td>\n",
       "      <td>4.429022</td>\n",
       "      <td>4.392070</td>\n",
       "      <td>Shawshank Redemption, The (1994)</td>\n",
       "    </tr>\n",
       "    <tr>\n",
       "      <th>659</th>\n",
       "      <td>858</td>\n",
       "      <td>192</td>\n",
       "      <td>4.289062</td>\n",
       "      <td>4.236457</td>\n",
       "      <td>Godfather, The (1972)</td>\n",
       "    </tr>\n",
       "    <tr>\n",
       "      <th>2224</th>\n",
       "      <td>2959</td>\n",
       "      <td>218</td>\n",
       "      <td>4.272936</td>\n",
       "      <td>4.227052</td>\n",
       "      <td>Fight Club (1999)</td>\n",
       "    </tr>\n",
       "    <tr>\n",
       "      <th>224</th>\n",
       "      <td>260</td>\n",
       "      <td>251</td>\n",
       "      <td>4.231076</td>\n",
       "      <td>4.192646</td>\n",
       "      <td>Star Wars: Episode IV - A New Hope (1977)</td>\n",
       "    </tr>\n",
       "    <tr>\n",
       "      <th>46</th>\n",
       "      <td>50</td>\n",
       "      <td>204</td>\n",
       "      <td>4.237745</td>\n",
       "      <td>4.190567</td>\n",
       "      <td>Usual Suspects, The (1995)</td>\n",
       "    </tr>\n",
       "  </tbody>\n",
       "</table>\n",
       "</div>"
      ],
      "text/plain": [
       "      movieId  count      mean  bayes_avg  \\\n",
       "277       318    317  4.429022   4.392070   \n",
       "659       858    192  4.289062   4.236457   \n",
       "2224     2959    218  4.272936   4.227052   \n",
       "224       260    251  4.231076   4.192646   \n",
       "46         50    204  4.237745   4.190567   \n",
       "\n",
       "                                          title  \n",
       "277            Shawshank Redemption, The (1994)  \n",
       "659                       Godfather, The (1972)  \n",
       "2224                          Fight Club (1999)  \n",
       "224   Star Wars: Episode IV - A New Hope (1977)  \n",
       "46                   Usual Suspects, The (1995)  "
      ]
     },
     "execution_count": 17,
     "metadata": {},
     "output_type": "execute_result"
    }
   ],
   "source": [
    "movie_stats = movie_stats.merge(movies[['movieId', 'title']])\n",
    "movie_stats.sort_values('bayes_avg', ascending = False).head()"
   ]
  },
  {
   "cell_type": "markdown",
   "id": "98dd7692-e2af-4666-b5de-c2e9f3e76dba",
   "metadata": {},
   "source": [
    "The above info shows that \"The Shawshank Redemption,\" \"The Godfather,\" and \"Fight Club\" are the top three best-rated films when determining ratings using the Bayesian Average."
   ]
  },
  {
   "cell_type": "markdown",
   "id": "b0cc91e3-a4a0-4da5-8c5d-401c52e0c02b",
   "metadata": {},
   "source": [
    "Similarly, we can take a look at the worst-rated films:"
   ]
  },
  {
   "cell_type": "code",
   "execution_count": 18,
   "id": "45c7f2e2-ef77-4182-8e51-e959dba6f889",
   "metadata": {},
   "outputs": [
    {
     "data": {
      "text/html": [
       "<div>\n",
       "<style scoped>\n",
       "    .dataframe tbody tr th:only-of-type {\n",
       "        vertical-align: middle;\n",
       "    }\n",
       "\n",
       "    .dataframe tbody tr th {\n",
       "        vertical-align: top;\n",
       "    }\n",
       "\n",
       "    .dataframe thead th {\n",
       "        text-align: right;\n",
       "    }\n",
       "</style>\n",
       "<table border=\"1\" class=\"dataframe\">\n",
       "  <thead>\n",
       "    <tr style=\"text-align: right;\">\n",
       "      <th></th>\n",
       "      <th>movieId</th>\n",
       "      <th>count</th>\n",
       "      <th>mean</th>\n",
       "      <th>bayes_avg</th>\n",
       "      <th>title</th>\n",
       "    </tr>\n",
       "  </thead>\n",
       "  <tbody>\n",
       "    <tr>\n",
       "      <th>1172</th>\n",
       "      <td>1556</td>\n",
       "      <td>19</td>\n",
       "      <td>1.605263</td>\n",
       "      <td>2.190377</td>\n",
       "      <td>Speed 2: Cruise Control (1997)</td>\n",
       "    </tr>\n",
       "    <tr>\n",
       "      <th>2679</th>\n",
       "      <td>3593</td>\n",
       "      <td>19</td>\n",
       "      <td>1.657895</td>\n",
       "      <td>2.224426</td>\n",
       "      <td>Battlefield Earth (2000)</td>\n",
       "    </tr>\n",
       "    <tr>\n",
       "      <th>1372</th>\n",
       "      <td>1882</td>\n",
       "      <td>33</td>\n",
       "      <td>1.954545</td>\n",
       "      <td>2.267268</td>\n",
       "      <td>Godzilla (1998)</td>\n",
       "    </tr>\n",
       "    <tr>\n",
       "      <th>1144</th>\n",
       "      <td>1499</td>\n",
       "      <td>27</td>\n",
       "      <td>1.925926</td>\n",
       "      <td>2.296800</td>\n",
       "      <td>Anaconda (1997)</td>\n",
       "    </tr>\n",
       "    <tr>\n",
       "      <th>1988</th>\n",
       "      <td>2643</td>\n",
       "      <td>16</td>\n",
       "      <td>1.687500</td>\n",
       "      <td>2.306841</td>\n",
       "      <td>Superman IV: The Quest for Peace (1987)</td>\n",
       "    </tr>\n",
       "  </tbody>\n",
       "</table>\n",
       "</div>"
      ],
      "text/plain": [
       "      movieId  count      mean  bayes_avg  \\\n",
       "1172     1556     19  1.605263   2.190377   \n",
       "2679     3593     19  1.657895   2.224426   \n",
       "1372     1882     33  1.954545   2.267268   \n",
       "1144     1499     27  1.925926   2.296800   \n",
       "1988     2643     16  1.687500   2.306841   \n",
       "\n",
       "                                        title  \n",
       "1172           Speed 2: Cruise Control (1997)  \n",
       "2679                 Battlefield Earth (2000)  \n",
       "1372                          Godzilla (1998)  \n",
       "1144                          Anaconda (1997)  \n",
       "1988  Superman IV: The Quest for Peace (1987)  "
      ]
     },
     "execution_count": 18,
     "metadata": {},
     "output_type": "execute_result"
    }
   ],
   "source": [
    "movie_stats.sort_values('bayes_avg', ascending = True).head()"
   ]
  },
  {
   "cell_type": "markdown",
   "id": "c13cea8e-0dfb-4354-b664-7950ba6a601a",
   "metadata": {},
   "source": []
  },
  {
   "cell_type": "markdown",
   "id": "fcaf26a9-8659-4f36-b268-26d299cb140f",
   "metadata": {},
   "source": [
    "Now, in order to move on to carrying out collaborative filtering and create a movie recommender, we have to transform our data into a user-item matrix. Rows will represent users and columns represent items."
   ]
  },
  {
   "cell_type": "markdown",
   "id": "23623747-66fe-45ff-b8a6-9175e51a3651",
   "metadata": {},
   "source": [
    "We'll use the create_X() function to create a sparse matrix X with four mapper dictionaries:\n",
    "\n",
    "- user_map: maps user id to user index\n",
    "- movie_map: maps movie id to movie index\n",
    "- user_inv_map: maps user index to user id\n",
    "- movie_inv_map: maps movie index to movie id\n",
    "\n",
    "These dictionaries are necessary because they map which row and column of the utility matrix \n",
    "corresponds to which user ID and movie ID."
   ]
  },
  {
   "cell_type": "code",
   "execution_count": 19,
   "id": "1a08c377-6d36-4693-a4a7-fea7a043deda",
   "metadata": {},
   "outputs": [],
   "source": [
    "from scipy.sparse import csr_matrix\n",
    "\n",
    "def create_X(df):\n",
    "    N = df['userId'].nunique()\n",
    "    M = df['movieId'].nunique()\n",
    "\n",
    "    user_mapper = dict(zip(np.unique(df[\"userId\"]), list(range(N))))\n",
    "    movie_mapper = dict(zip(np.unique(df[\"movieId\"]), list(range(M))))\n",
    "    \n",
    "    user_inv_mapper = dict(zip(list(range(N)), np.unique(df[\"userId\"])))\n",
    "    movie_inv_mapper = dict(zip(list(range(M)), np.unique(df[\"movieId\"])))\n",
    "    \n",
    "    user_index = [user_mapper[i] for i in df['userId']]\n",
    "    movie_index = [movie_mapper[i] for i in df['movieId']]\n",
    "\n",
    "    X = csr_matrix((df[\"rating\"], (movie_index, user_index)), shape=(M, N))\n",
    "    \n",
    "    return X, user_mapper, movie_mapper, user_inv_mapper, movie_inv_mapper"
   ]
  },
  {
   "cell_type": "code",
   "execution_count": 20,
   "id": "1809fe91-e5cb-44f1-aa32-39ad12ba0c62",
   "metadata": {},
   "outputs": [],
   "source": [
    "X, user_mapper, movie_mapper, user_inv_mapper, movie_inv_mapper = create_X(ratings)"
   ]
  },
  {
   "cell_type": "markdown",
   "id": "500a2c49-541b-4d3f-bd3a-0be95558f902",
   "metadata": {},
   "source": [
    "We should check the sparsity of our matrix by dividing the number of non-zero elements by the \n",
    "total number of elements:"
   ]
  },
  {
   "cell_type": "code",
   "execution_count": 21,
   "id": "75221b58-c1dc-4fc6-90a2-853280029840",
   "metadata": {},
   "outputs": [
    {
     "name": "stdout",
     "output_type": "stream",
     "text": [
      "Matrix sparsity: 1.7%\n"
     ]
    }
   ],
   "source": [
    "sparsity = X.count_nonzero()/(X.shape[0] * X.shape[1])\n",
    "\n",
    "print(f\"Matrix sparsity: {round(sparsity * 100,2)}%\")"
   ]
  },
  {
   "cell_type": "markdown",
   "id": "0198f1c3-b978-47fa-89da-03a84a6bb22f",
   "metadata": {},
   "source": [
    "Apparently, the general rule of thumb is that the matrix sparsity should be not be lower than 0.5% (https://towardsdatascience.com/working-with-sparse-data-sets-in-pandas-and-sklearn-d26c1cfbe067) to generate reliable results. So since our sparsity percentage is 1.7%, which means that 1.7% of the cells are populated with ratings, we're okay."
   ]
  },
  {
   "cell_type": "markdown",
   "id": "6b295286-4d77-47bb-844a-56bbf9678397",
   "metadata": {},
   "source": [
    "We can save this user-item matrix to a file in order to work with it:"
   ]
  },
  {
   "cell_type": "code",
   "execution_count": 22,
   "id": "bbd95771-aaab-419b-abae-a639d8771d52",
   "metadata": {},
   "outputs": [],
   "source": [
    "from scipy.sparse import save_npz\n",
    "\n",
    "save_npz('[filepath]/file.npz', X)"
   ]
  },
  {
   "cell_type": "code",
   "execution_count": 23,
   "id": "d42768db-96f2-4e2b-b495-8b8164697d58",
   "metadata": {},
   "outputs": [
    {
     "data": {
      "text/plain": [
       "['indices', 'indptr', 'format', 'shape', 'data']"
      ]
     },
     "execution_count": 23,
     "metadata": {},
     "output_type": "execute_result"
    }
   ],
   "source": [
    "b = np.load('user_item_matrix.npz')\n",
    "b.files"
   ]
  },
  {
   "cell_type": "code",
   "execution_count": 24,
   "id": "a49aac9a-2c6d-4c87-83d7-013b9b3b4216",
   "metadata": {},
   "outputs": [
    {
     "data": {
      "text/plain": [
       "array([4. , 4. , 4.5, ..., 3.5, 3.5, 4. ])"
      ]
     },
     "execution_count": 24,
     "metadata": {},
     "output_type": "execute_result"
    }
   ],
   "source": [
    "b['data']"
   ]
  },
  {
   "cell_type": "markdown",
   "id": "a28e0138-f612-4ebc-8a90-ebf29ceb34d8",
   "metadata": {},
   "source": [
    "Now we can build our K-Nearest Neighbors model.\n"
   ]
  },
  {
   "cell_type": "code",
   "execution_count": 25,
   "id": "c662252b-4769-4c74-a9b8-95a3f092385c",
   "metadata": {},
   "outputs": [],
   "source": [
    "from sklearn.neighbors import NearestNeighbors\n",
    "\n",
    "def find_similar_movies(movie_id, X, k, metric = 'cosine', show_distance = False):\n",
    "  \n",
    "    neighbour_ids = []\n",
    "    \n",
    "    movie_ind = movie_mapper[movie_id]\n",
    "    movie_vec = X[movie_ind]\n",
    "    k += 1\n",
    "    kNN = NearestNeighbors(n_neighbors = k, algorithm = \"auto\", metric = metric)\n",
    "    # Amir leaves algorithm on auto instead of \"brute\" force\n",
    "    # for 'metric' we're not using the default 'minkowski' bc that uses Euclidean distance, which\n",
    "    # we're not using (we're using 'cosine similarity' instead)\n",
    "    # https://scikit-learn.org/stable/modules/generated/sklearn.neighbors.NearestNeighbors.html:\n",
    "    # algorithm options are: {‘auto’, ‘ball_tree’, ‘kd_tree’, ‘brute’}, default=’auto’\n",
    "    kNN.fit(X)\n",
    "    if isinstance(movie_vec, (np.ndarray)):\n",
    "        movie_vec = movie_vec.reshape(1,-1)\n",
    "    neighbour = kNN.kneighbors(movie_vec, return_distance = show_distance)\n",
    "    for i in range(0,k):\n",
    "        n = neighbour.item(i)\n",
    "        neighbour_ids.append(movie_inv_mapper[n])\n",
    "    neighbour_ids.pop(0)\n",
    "    return neighbour_ids"
   ]
  },
  {
   "cell_type": "markdown",
   "id": "ef987651-70e7-4b10-b6a2-8f97438bd26b",
   "metadata": {},
   "source": [
    "Above, find_similar_movies() takes in a movieId and user-item matrix (X), and outputs a list of movies (k) that are similar to the movieId of interest."
   ]
  },
  {
   "cell_type": "markdown",
   "id": "3e629fab-1e14-450e-afb5-a986facc1a3f",
   "metadata": {},
   "source": [
    "Before putting it to use, we have to first create another mapper that maps movieId \n",
    "to title so that the results can be interpreted:"
   ]
  },
  {
   "cell_type": "code",
   "execution_count": 26,
   "id": "e6d19e1e-774b-4157-a4c1-210054942c09",
   "metadata": {},
   "outputs": [
    {
     "name": "stdout",
     "output_type": "stream",
     "text": [
      "Because you watched \"Toy Story (1995)\":\n",
      "Toy Story 2 (1999)\n",
      "Jurassic Park (1993)\n",
      "Independence Day (a.k.a. ID4) (1996)\n",
      "Star Wars: Episode IV - A New Hope (1977)\n",
      "Forrest Gump (1994)\n",
      "Lion King, The (1994)\n",
      "Star Wars: Episode VI - Return of the Jedi (1983)\n",
      "Mission: Impossible (1996)\n",
      "Groundhog Day (1993)\n",
      "Back to the Future (1985)\n"
     ]
    }
   ],
   "source": [
    "movie_titles = dict(zip(movies['movieId'], movies['title']))\n",
    "\n",
    "movie_id = 1\n",
    "\n",
    "similar_ids = find_similar_movies(movie_id, X, k = 10)\n",
    "movie_title = movie_titles[movie_id]\n",
    "\n",
    "print(f'Because you watched \"{movie_title}\":')\n",
    "for i in similar_ids:\n",
    "    print(movie_titles[i])"
   ]
  },
  {
   "cell_type": "code",
   "execution_count": 27,
   "id": "f96df136-2e0e-4097-a76d-95703c35748d",
   "metadata": {},
   "outputs": [
    {
     "name": "stdout",
     "output_type": "stream",
     "text": [
      "Because you watched \"Grumpier Old Men (1995)\":\n",
      "Son in Law (1993)\n",
      "Striptease (1996)\n",
      "Juror, The (1996)\n",
      "Flipper (1996)\n",
      "Beverly Hillbillies, The (1993)\n",
      "Bio-Dome (1996)\n",
      "Kazaam (1996)\n",
      "Angus (1995)\n",
      "Tales from the Crypt Presents: Bordello of Blood (1996)\n",
      "Substitute, The (1996)\n"
     ]
    }
   ],
   "source": [
    "movie_titles = dict(zip(movies['movieId'], movies['title']))\n",
    "\n",
    "movie_id = 3\n",
    "similar_ids = find_similar_movies(movie_id, X, k = 10, metric = \"euclidean\")\n",
    "\n",
    "movie_title = movie_titles[movie_id]\n",
    "print(f'Because you watched \"{movie_title}\":')\n",
    "for i in similar_ids:\n",
    "    print(movie_titles[i])"
   ]
  },
  {
   "cell_type": "markdown",
   "id": "0b1a7633-a3cf-43d9-b527-ae50285064fe",
   "metadata": {},
   "source": [
    "\n"
   ]
  },
  {
   "cell_type": "markdown",
   "id": "a2b87835-6d0a-4211-99b8-6ea16fe35f58",
   "metadata": {},
   "source": [
    "Now, instead of a user-item collaborative filtering recommendation system, we're going to build a content-based recommendation system.\n",
    "\n",
    "This is also a good method in case you run into the cold-start problem, which is a notorious problem that collaborative filtering suffers from. The issue is that new users or items with no ratings/interactions get excluded by the recommender system. One way to deal with this is by using this content-based filtering in which recommendations are generated based on user and item features. We'll be creating item-item recommendations."
   ]
  },
  {
   "cell_type": "markdown",
   "id": "168be595-cc4e-46c2-9480-340cae2589f2",
   "metadata": {},
   "source": [
    "So if under this scenario, we assume that we know very little about our current users because we don't have enough interaction data in our system to rely on collaborative filtering, one thing we can rely on is movie features: which genres a movie belongs to and which year it was released."
   ]
  },
  {
   "cell_type": "code",
   "execution_count": 28,
   "id": "b7b6db1b-0e1d-4006-8904-365f7de43c59",
   "metadata": {},
   "outputs": [
    {
     "data": {
      "text/html": [
       "<div>\n",
       "<style scoped>\n",
       "    .dataframe tbody tr th:only-of-type {\n",
       "        vertical-align: middle;\n",
       "    }\n",
       "\n",
       "    .dataframe tbody tr th {\n",
       "        vertical-align: top;\n",
       "    }\n",
       "\n",
       "    .dataframe thead th {\n",
       "        text-align: right;\n",
       "    }\n",
       "</style>\n",
       "<table border=\"1\" class=\"dataframe\">\n",
       "  <thead>\n",
       "    <tr style=\"text-align: right;\">\n",
       "      <th></th>\n",
       "      <th>movieId</th>\n",
       "      <th>title</th>\n",
       "      <th>genres</th>\n",
       "    </tr>\n",
       "  </thead>\n",
       "  <tbody>\n",
       "    <tr>\n",
       "      <th>9737</th>\n",
       "      <td>193581</td>\n",
       "      <td>Black Butler: Book of the Atlantic (2017)</td>\n",
       "      <td>Action|Animation|Comedy|Fantasy</td>\n",
       "    </tr>\n",
       "    <tr>\n",
       "      <th>9738</th>\n",
       "      <td>193583</td>\n",
       "      <td>No Game No Life: Zero (2017)</td>\n",
       "      <td>Animation|Comedy|Fantasy</td>\n",
       "    </tr>\n",
       "    <tr>\n",
       "      <th>9739</th>\n",
       "      <td>193585</td>\n",
       "      <td>Flint (2017)</td>\n",
       "      <td>Drama</td>\n",
       "    </tr>\n",
       "    <tr>\n",
       "      <th>9740</th>\n",
       "      <td>193587</td>\n",
       "      <td>Bungo Stray Dogs: Dead Apple (2018)</td>\n",
       "      <td>Action|Animation</td>\n",
       "    </tr>\n",
       "    <tr>\n",
       "      <th>9741</th>\n",
       "      <td>193609</td>\n",
       "      <td>Andrew Dice Clay: Dice Rules (1991)</td>\n",
       "      <td>Comedy</td>\n",
       "    </tr>\n",
       "  </tbody>\n",
       "</table>\n",
       "</div>"
      ],
      "text/plain": [
       "      movieId                                      title  \\\n",
       "9737   193581  Black Butler: Book of the Atlantic (2017)   \n",
       "9738   193583               No Game No Life: Zero (2017)   \n",
       "9739   193585                               Flint (2017)   \n",
       "9740   193587        Bungo Stray Dogs: Dead Apple (2018)   \n",
       "9741   193609        Andrew Dice Clay: Dice Rules (1991)   \n",
       "\n",
       "                               genres  \n",
       "9737  Action|Animation|Comedy|Fantasy  \n",
       "9738         Animation|Comedy|Fantasy  \n",
       "9739                            Drama  \n",
       "9740                 Action|Animation  \n",
       "9741                           Comedy  "
      ]
     },
     "execution_count": 28,
     "metadata": {},
     "output_type": "execute_result"
    }
   ],
   "source": [
    "movies = pd.read_csv(\"[filepath]/file.csv\")\n",
    "movies.head()\n",
    "movies.tail()\n",
    "# the columns are 'movieId', 'title', 'genres'\n",
    "# there were 9742 rows (numbered 0-9741)"
   ]
  },
  {
   "cell_type": "markdown",
   "id": "731c2a52-6168-4cbc-b6b1-abde9cb8a5b5",
   "metadata": {},
   "source": [
    "But before exploring our movies dataset, first we'll get rid of the pipe \"|\" that appears between each listed genre and turn it into a list of genres:"
   ]
  },
  {
   "cell_type": "code",
   "execution_count": 29,
   "id": "be2a76be-9bed-4f1d-bd53-5b8ea0b70b66",
   "metadata": {},
   "outputs": [
    {
     "data": {
      "text/html": [
       "<div>\n",
       "<style scoped>\n",
       "    .dataframe tbody tr th:only-of-type {\n",
       "        vertical-align: middle;\n",
       "    }\n",
       "\n",
       "    .dataframe tbody tr th {\n",
       "        vertical-align: top;\n",
       "    }\n",
       "\n",
       "    .dataframe thead th {\n",
       "        text-align: right;\n",
       "    }\n",
       "</style>\n",
       "<table border=\"1\" class=\"dataframe\">\n",
       "  <thead>\n",
       "    <tr style=\"text-align: right;\">\n",
       "      <th></th>\n",
       "      <th>movieId</th>\n",
       "      <th>title</th>\n",
       "      <th>genres</th>\n",
       "    </tr>\n",
       "  </thead>\n",
       "  <tbody>\n",
       "    <tr>\n",
       "      <th>9737</th>\n",
       "      <td>193581</td>\n",
       "      <td>Black Butler: Book of the Atlantic (2017)</td>\n",
       "      <td>[Action, Animation, Comedy, Fantasy]</td>\n",
       "    </tr>\n",
       "    <tr>\n",
       "      <th>9738</th>\n",
       "      <td>193583</td>\n",
       "      <td>No Game No Life: Zero (2017)</td>\n",
       "      <td>[Animation, Comedy, Fantasy]</td>\n",
       "    </tr>\n",
       "    <tr>\n",
       "      <th>9739</th>\n",
       "      <td>193585</td>\n",
       "      <td>Flint (2017)</td>\n",
       "      <td>[Drama]</td>\n",
       "    </tr>\n",
       "    <tr>\n",
       "      <th>9740</th>\n",
       "      <td>193587</td>\n",
       "      <td>Bungo Stray Dogs: Dead Apple (2018)</td>\n",
       "      <td>[Action, Animation]</td>\n",
       "    </tr>\n",
       "    <tr>\n",
       "      <th>9741</th>\n",
       "      <td>193609</td>\n",
       "      <td>Andrew Dice Clay: Dice Rules (1991)</td>\n",
       "      <td>[Comedy]</td>\n",
       "    </tr>\n",
       "  </tbody>\n",
       "</table>\n",
       "</div>"
      ],
      "text/plain": [
       "      movieId                                      title  \\\n",
       "9737   193581  Black Butler: Book of the Atlantic (2017)   \n",
       "9738   193583               No Game No Life: Zero (2017)   \n",
       "9739   193585                               Flint (2017)   \n",
       "9740   193587        Bungo Stray Dogs: Dead Apple (2018)   \n",
       "9741   193609        Andrew Dice Clay: Dice Rules (1991)   \n",
       "\n",
       "                                    genres  \n",
       "9737  [Action, Animation, Comedy, Fantasy]  \n",
       "9738          [Animation, Comedy, Fantasy]  \n",
       "9739                               [Drama]  \n",
       "9740                   [Action, Animation]  \n",
       "9741                              [Comedy]  "
      ]
     },
     "execution_count": 29,
     "metadata": {},
     "output_type": "execute_result"
    }
   ],
   "source": [
    "movies['genres'] = movies['genres'].apply(lambda x:x.split(\"|\"))\n",
    "movies.head()\n",
    "movies.tail()"
   ]
  },
  {
   "cell_type": "markdown",
   "id": "3147a541-77ff-4b06-b150-63b04ba96d3c",
   "metadata": {},
   "source": [
    "Then, we can count how frequently each genre appears in our dataset:"
   ]
  },
  {
   "cell_type": "code",
   "execution_count": 30,
   "id": "ecee103b-3fe6-48e3-8a88-faa2248d2c2a",
   "metadata": {},
   "outputs": [
    {
     "name": "stdout",
     "output_type": "stream",
     "text": [
      "There are 20 different labels of genre.\n"
     ]
    },
    {
     "data": {
      "text/plain": [
       "Counter({'Adventure': 1263,\n",
       "         'Animation': 611,\n",
       "         'Children': 664,\n",
       "         'Comedy': 3756,\n",
       "         'Fantasy': 779,\n",
       "         'Romance': 1596,\n",
       "         'Drama': 4361,\n",
       "         'Action': 1828,\n",
       "         'Crime': 1199,\n",
       "         'Thriller': 1894,\n",
       "         'Horror': 978,\n",
       "         'Mystery': 573,\n",
       "         'Sci-Fi': 980,\n",
       "         'War': 382,\n",
       "         'Musical': 334,\n",
       "         'Documentary': 440,\n",
       "         'IMAX': 158,\n",
       "         'Western': 167,\n",
       "         'Film-Noir': 87,\n",
       "         '(no genres listed)': 34})"
      ]
     },
     "execution_count": 30,
     "metadata": {},
     "output_type": "execute_result"
    }
   ],
   "source": [
    "from collections import Counter\n",
    "\n",
    "genres_count = Counter(genre for genres in movies['genres'] for genre in genres)\n",
    "print(f\"There are {len(genres_count)} different labels of genre.\")\n",
    "genres_count"
   ]
  },
  {
   "cell_type": "markdown",
   "id": "62f4b52d-1e69-47ab-a7b0-05c2862ac976",
   "metadata": {},
   "source": [
    "We should remove the \"no genres listed\" label since that won't help us."
   ]
  },
  {
   "cell_type": "code",
   "execution_count": 31,
   "id": "d3ed253c-56f8-47eb-89ef-ae7887b34028",
   "metadata": {},
   "outputs": [],
   "source": [
    "movies = movies[movies['genres']!='(no genres listed)']\n",
    "\n",
    "del genres_count['(no genres listed)']"
   ]
  },
  {
   "cell_type": "code",
   "execution_count": 32,
   "id": "92bd1e8f-46bd-4968-84eb-87d65a83c77e",
   "metadata": {},
   "outputs": [
    {
     "name": "stdout",
     "output_type": "stream",
     "text": [
      "There are now 19 different labels of genre after deleting \"no genres listed\":\n"
     ]
    },
    {
     "data": {
      "text/plain": [
       "Counter({'Adventure': 1263,\n",
       "         'Animation': 611,\n",
       "         'Children': 664,\n",
       "         'Comedy': 3756,\n",
       "         'Fantasy': 779,\n",
       "         'Romance': 1596,\n",
       "         'Drama': 4361,\n",
       "         'Action': 1828,\n",
       "         'Crime': 1199,\n",
       "         'Thriller': 1894,\n",
       "         'Horror': 978,\n",
       "         'Mystery': 573,\n",
       "         'Sci-Fi': 980,\n",
       "         'War': 382,\n",
       "         'Musical': 334,\n",
       "         'Documentary': 440,\n",
       "         'IMAX': 158,\n",
       "         'Western': 167,\n",
       "         'Film-Noir': 87})"
      ]
     },
     "execution_count": 32,
     "metadata": {},
     "output_type": "execute_result"
    }
   ],
   "source": [
    "print(f'There are now {len(genres_count)} different labels of genre after deleting \"no genres listed\":')\n",
    "genres_count"
   ]
  },
  {
   "cell_type": "code",
   "execution_count": 33,
   "id": "b48b9a55-95c8-4961-ad74-3be3f576e383",
   "metadata": {},
   "outputs": [
    {
     "name": "stdout",
     "output_type": "stream",
     "text": [
      "The most common genres in descending order: \n",
      " [('Drama', 4361), ('Comedy', 3756), ('Thriller', 1894), ('Action', 1828), ('Romance', 1596), ('Adventure', 1263), ('Crime', 1199), ('Sci-Fi', 980), ('Horror', 978), ('Fantasy', 779), ('Children', 664), ('Animation', 611), ('Mystery', 573), ('Documentary', 440), ('War', 382), ('Musical', 334), ('Western', 167), ('IMAX', 158), ('Film-Noir', 87)]\n"
     ]
    }
   ],
   "source": [
    "print(\"The most common genres in descending order: \\n\", genres_count.most_common(19))"
   ]
  },
  {
   "cell_type": "code",
   "execution_count": 34,
   "id": "b4a87aa7-9ecb-4204-a8ef-731574e2344f",
   "metadata": {},
   "outputs": [
    {
     "data": {
      "image/png": "[encoded data removed]",
      "text/plain": [
       "<Figure size 1000x500 with 1 Axes>"
      ]
     },
     "metadata": {},
     "output_type": "display_data"
    }
   ],
   "source": [
    "genres_count_df = pd.DataFrame([genres_count]).T.reset_index()\n",
    "genres_count_df.columns = [\"genres\", \"count\"]\n",
    "genres_count_df = genres_count_df.sort_values(by = 'count', ascending = False)\n",
    "\n",
    "sns.set_style(\"darkgrid\")\n",
    "plt.figure(figsize = (10,5))\n",
    "sns.barplot(x = \"genres\", y = \"count\", data = genres_count_df, palette = \"flare\")\n",
    "# color palette options: https://seaborn.pydata.org/tutorial/color_palettes.html\n",
    "plt.xticks(rotation = 90)\n",
    "plt.title(\"Occurence of Genres that are Labeled in the Dataset\")\n",
    "plt.show()"
   ]
  },
  {
   "cell_type": "markdown",
   "id": "ed3feab0-a87c-4672-aae6-9eb14767fa44",
   "metadata": {},
   "source": [
    "Next, we'll separate out the years currently included in the titles and add them to a new column:"
   ]
  },
  {
   "cell_type": "code",
   "execution_count": 35,
   "id": "480695cb-1a5c-4f0f-8a85-2a5d73cb748f",
   "metadata": {},
   "outputs": [],
   "source": [
    "import re \n",
    "\n",
    "def extract_year_from_title(title):\n",
    "    t = title.split(' ') # splits out each word\n",
    "    year = None\n",
    "    if re.search(r'\\(\\d+\\)', t[-1]): # regex searches for the year as '\\d+' searches for [0-9] \n",
    "        # or more times\n",
    "        year = t[-1].strip('()') # strips the brackets \n",
    "        year = int(year) # converts year into integer\n",
    "    return year"
   ]
  },
  {
   "cell_type": "markdown",
   "id": "7ea2564b-8afb-4d05-b7f4-54bc8c1e5789",
   "metadata": {},
   "source": [
    "Testing to see if the above works:"
   ]
  },
  {
   "cell_type": "code",
   "execution_count": 37,
   "id": "b6380032-b83b-483e-8f37-106eca7e3078",
   "metadata": {},
   "outputs": [
    {
     "name": "stdout",
     "output_type": "stream",
     "text": [
      "Year of release: 1995\n",
      "<class 'int'>\n"
     ]
    }
   ],
   "source": [
    "title = \"Waiting to Exhale (1995)\"\n",
    "year = extract_year_from_title(title)\n",
    "print(f\"Year of release: {year}\")\n",
    "print(type(year))"
   ]
  },
  {
   "cell_type": "markdown",
   "id": "363aadd6-4b76-4538-b084-43955d953042",
   "metadata": {},
   "source": [
    "We can apply the above function to all the titles:"
   ]
  },
  {
   "cell_type": "code",
   "execution_count": 39,
   "id": "c1055053-1464-45ee-b83c-726284645836",
   "metadata": {},
   "outputs": [
    {
     "data": {
      "text/html": [
       "<div>\n",
       "<style scoped>\n",
       "    .dataframe tbody tr th:only-of-type {\n",
       "        vertical-align: middle;\n",
       "    }\n",
       "\n",
       "    .dataframe tbody tr th {\n",
       "        vertical-align: top;\n",
       "    }\n",
       "\n",
       "    .dataframe thead th {\n",
       "        text-align: right;\n",
       "    }\n",
       "</style>\n",
       "<table border=\"1\" class=\"dataframe\">\n",
       "  <thead>\n",
       "    <tr style=\"text-align: right;\">\n",
       "      <th></th>\n",
       "      <th>movieId</th>\n",
       "      <th>title</th>\n",
       "      <th>genres</th>\n",
       "      <th>year</th>\n",
       "    </tr>\n",
       "  </thead>\n",
       "  <tbody>\n",
       "    <tr>\n",
       "      <th>9737</th>\n",
       "      <td>193581</td>\n",
       "      <td>Black Butler: Book of the Atlantic (2017)</td>\n",
       "      <td>[Action, Animation, Comedy, Fantasy]</td>\n",
       "      <td>2017.0</td>\n",
       "    </tr>\n",
       "    <tr>\n",
       "      <th>9738</th>\n",
       "      <td>193583</td>\n",
       "      <td>No Game No Life: Zero (2017)</td>\n",
       "      <td>[Animation, Comedy, Fantasy]</td>\n",
       "      <td>2017.0</td>\n",
       "    </tr>\n",
       "    <tr>\n",
       "      <th>9739</th>\n",
       "      <td>193585</td>\n",
       "      <td>Flint (2017)</td>\n",
       "      <td>[Drama]</td>\n",
       "      <td>2017.0</td>\n",
       "    </tr>\n",
       "    <tr>\n",
       "      <th>9740</th>\n",
       "      <td>193587</td>\n",
       "      <td>Bungo Stray Dogs: Dead Apple (2018)</td>\n",
       "      <td>[Action, Animation]</td>\n",
       "      <td>2018.0</td>\n",
       "    </tr>\n",
       "    <tr>\n",
       "      <th>9741</th>\n",
       "      <td>193609</td>\n",
       "      <td>Andrew Dice Clay: Dice Rules (1991)</td>\n",
       "      <td>[Comedy]</td>\n",
       "      <td>1991.0</td>\n",
       "    </tr>\n",
       "  </tbody>\n",
       "</table>\n",
       "</div>"
      ],
      "text/plain": [
       "      movieId                                      title  \\\n",
       "9737   193581  Black Butler: Book of the Atlantic (2017)   \n",
       "9738   193583               No Game No Life: Zero (2017)   \n",
       "9739   193585                               Flint (2017)   \n",
       "9740   193587        Bungo Stray Dogs: Dead Apple (2018)   \n",
       "9741   193609        Andrew Dice Clay: Dice Rules (1991)   \n",
       "\n",
       "                                    genres    year  \n",
       "9737  [Action, Animation, Comedy, Fantasy]  2017.0  \n",
       "9738          [Animation, Comedy, Fantasy]  2017.0  \n",
       "9739                               [Drama]  2017.0  \n",
       "9740                   [Action, Animation]  2018.0  \n",
       "9741                              [Comedy]  1991.0  "
      ]
     },
     "execution_count": 39,
     "metadata": {},
     "output_type": "execute_result"
    }
   ],
   "source": [
    "movies['year'] = movies['title'].apply(extract_year_from_title)\n",
    "movies.head()\n",
    "movies.tail()"
   ]
  },
  {
   "cell_type": "code",
   "execution_count": 40,
   "id": "17f82c59-3d52-4631-941e-ea13c88270df",
   "metadata": {},
   "outputs": [
    {
     "data": {
      "text/plain": [
       "106"
      ]
     },
     "execution_count": 40,
     "metadata": {},
     "output_type": "execute_result"
    }
   ],
   "source": [
    "movies['year'].nunique()"
   ]
  },
  {
   "cell_type": "markdown",
   "id": "85b2d9e0-ff4b-4489-9802-d9d1e2418739",
   "metadata": {},
   "source": [
    "100+ unique years is a lot so we can round the years into decades to simplify things. But first, we can remove movies that don't have a year listed for when it was released:"
   ]
  },
  {
   "cell_type": "code",
   "execution_count": 41,
   "id": "3cdd474e-3433-4998-a7e3-0f8777a00e02",
   "metadata": {},
   "outputs": [
    {
     "name": "stdout",
     "output_type": "stream",
     "text": [
      "Original number of movies: 9742\n"
     ]
    }
   ],
   "source": [
    "print(f\"Original number of movies: {movies['movieId'].nunique()}\")"
   ]
  },
  {
   "cell_type": "code",
   "execution_count": 42,
   "id": "3ab70fc2-3d8d-4823-8cef-62415a5e17cd",
   "metadata": {},
   "outputs": [
    {
     "name": "stdout",
     "output_type": "stream",
     "text": [
      "Number of movies after removing ones with missing years: 9718\n"
     ]
    }
   ],
   "source": [
    "movies = movies[~movies['year'].isnull()]\n",
    "print(f\"Number of movies after removing ones with missing years: {movies['movieId'].nunique()}\")"
   ]
  },
  {
   "cell_type": "markdown",
   "id": "a0cb907f-f68f-437f-953f-be7ed0cead33",
   "metadata": {},
   "source": [
    "So now we have 24 less movies that didn't have a year in the title."
   ]
  },
  {
   "cell_type": "markdown",
   "id": "a6fc9831-92cd-4c9e-a0f2-87a570895306",
   "metadata": {},
   "source": [
    "Next, to simplify our data, we'll round the number down to the nearest decade:"
   ]
  },
  {
   "cell_type": "code",
   "execution_count": 43,
   "id": "95e48a9d-147a-49a3-b037-80d8e92c1c6c",
   "metadata": {},
   "outputs": [
    {
     "data": {
      "text/plain": [
       "1980"
      ]
     },
     "execution_count": 43,
     "metadata": {},
     "output_type": "execute_result"
    }
   ],
   "source": [
    "x = 1985\n",
    "\n",
    "def get_decade(year):\n",
    "    year = str(year)\n",
    "    decade_prefix = year[0:3] # get first 3 digits of year\n",
    "    decade = f'{decade_prefix}0' # append 0 at the end\n",
    "    return int(decade)\n",
    "\n",
    "get_decade(x)"
   ]
  },
  {
   "cell_type": "code",
   "execution_count": 44,
   "id": "2ffa3a82-1da3-48fa-bfb5-cb7de574b8c9",
   "metadata": {},
   "outputs": [
    {
     "data": {
      "text/plain": [
       "1980"
      ]
     },
     "execution_count": 44,
     "metadata": {},
     "output_type": "execute_result"
    }
   ],
   "source": [
    "def round_down(year):\n",
    "    return year - (year%10)\n",
    "\n",
    "round_down(x)"
   ]
  },
  {
   "cell_type": "markdown",
   "id": "be3e629d-1db2-40b9-abd0-57d377fb24df",
   "metadata": {},
   "source": [
    "We can round all the years down and then create a new column called 'decade':"
   ]
  },
  {
   "cell_type": "code",
   "execution_count": 45,
   "id": "85e35823-667f-437d-8bf8-bff153196532",
   "metadata": {},
   "outputs": [],
   "source": [
    "movies['decade'] = movies['year'].apply(round_down)"
   ]
  },
  {
   "cell_type": "markdown",
   "id": "49566e12-a05d-44b6-b7cc-60006e1d9485",
   "metadata": {},
   "source": [
    "Now, in order to build our content-based filtering recommenation system, we have to reconfigure our dataset so that rows represent movies and columns represent features (i.e., genres and decades)."
   ]
  },
  {
   "cell_type": "markdown",
   "id": "7dcdf511-e0e5-4df6-b7a5-47adb04df209",
   "metadata": {},
   "source": [
    "First, in the \"genres\" column, we'll have the data represented in a binary way, so that \"1\" means that the movie falls under a given genre while \"0\" means that it doesn't."
   ]
  },
  {
   "cell_type": "code",
   "execution_count": 47,
   "id": "5d20618f-9791-4931-b81b-981d45ddf4cc",
   "metadata": {},
   "outputs": [],
   "source": [
    "genres = list(genres_count.keys())\n",
    "\n",
    "for genre in genres:\n",
    "    movies[genre] = movies['genres'].transform(lambda x: int(genre in x))"
   ]
  },
  {
   "cell_type": "markdown",
   "id": "407f7592-0029-4299-b10e-59f8d72b77ae",
   "metadata": {},
   "source": [
    "We can check the transformation:"
   ]
  },
  {
   "cell_type": "markdown",
   "id": "29f110ac-162e-4803-8600-e4bfe1bb825a",
   "metadata": {},
   "source": [
    "movies[genres].head()\n",
    "movies[genres].tail()"
   ]
  },
  {
   "cell_type": "markdown",
   "id": "b3f55bfe-6149-45f7-b4d1-1f829fc7a1b2",
   "metadata": {},
   "source": [
    "Next, we should reconfigure the \"decade\" column so that each decade is in its own column."
   ]
  },
  {
   "cell_type": "code",
   "execution_count": 50,
   "id": "093527f3-f762-429f-bf01-0fca2eb75dda",
   "metadata": {},
   "outputs": [
    {
     "data": {
      "text/html": [
       "<div>\n",
       "<style scoped>\n",
       "    .dataframe tbody tr th:only-of-type {\n",
       "        vertical-align: middle;\n",
       "    }\n",
       "\n",
       "    .dataframe tbody tr th {\n",
       "        vertical-align: top;\n",
       "    }\n",
       "\n",
       "    .dataframe thead th {\n",
       "        text-align: right;\n",
       "    }\n",
       "</style>\n",
       "<table border=\"1\" class=\"dataframe\">\n",
       "  <thead>\n",
       "    <tr style=\"text-align: right;\">\n",
       "      <th></th>\n",
       "      <th>1900.0</th>\n",
       "      <th>1910.0</th>\n",
       "      <th>1920.0</th>\n",
       "      <th>1930.0</th>\n",
       "      <th>1940.0</th>\n",
       "      <th>1950.0</th>\n",
       "      <th>1960.0</th>\n",
       "      <th>1970.0</th>\n",
       "      <th>1980.0</th>\n",
       "      <th>1990.0</th>\n",
       "      <th>2000.0</th>\n",
       "      <th>2010.0</th>\n",
       "    </tr>\n",
       "  </thead>\n",
       "  <tbody>\n",
       "    <tr>\n",
       "      <th>0</th>\n",
       "      <td>0</td>\n",
       "      <td>0</td>\n",
       "      <td>0</td>\n",
       "      <td>0</td>\n",
       "      <td>0</td>\n",
       "      <td>0</td>\n",
       "      <td>0</td>\n",
       "      <td>0</td>\n",
       "      <td>0</td>\n",
       "      <td>1</td>\n",
       "      <td>0</td>\n",
       "      <td>0</td>\n",
       "    </tr>\n",
       "    <tr>\n",
       "      <th>1</th>\n",
       "      <td>0</td>\n",
       "      <td>0</td>\n",
       "      <td>0</td>\n",
       "      <td>0</td>\n",
       "      <td>0</td>\n",
       "      <td>0</td>\n",
       "      <td>0</td>\n",
       "      <td>0</td>\n",
       "      <td>0</td>\n",
       "      <td>1</td>\n",
       "      <td>0</td>\n",
       "      <td>0</td>\n",
       "    </tr>\n",
       "    <tr>\n",
       "      <th>2</th>\n",
       "      <td>0</td>\n",
       "      <td>0</td>\n",
       "      <td>0</td>\n",
       "      <td>0</td>\n",
       "      <td>0</td>\n",
       "      <td>0</td>\n",
       "      <td>0</td>\n",
       "      <td>0</td>\n",
       "      <td>0</td>\n",
       "      <td>1</td>\n",
       "      <td>0</td>\n",
       "      <td>0</td>\n",
       "    </tr>\n",
       "    <tr>\n",
       "      <th>3</th>\n",
       "      <td>0</td>\n",
       "      <td>0</td>\n",
       "      <td>0</td>\n",
       "      <td>0</td>\n",
       "      <td>0</td>\n",
       "      <td>0</td>\n",
       "      <td>0</td>\n",
       "      <td>0</td>\n",
       "      <td>0</td>\n",
       "      <td>1</td>\n",
       "      <td>0</td>\n",
       "      <td>0</td>\n",
       "    </tr>\n",
       "    <tr>\n",
       "      <th>4</th>\n",
       "      <td>0</td>\n",
       "      <td>0</td>\n",
       "      <td>0</td>\n",
       "      <td>0</td>\n",
       "      <td>0</td>\n",
       "      <td>0</td>\n",
       "      <td>0</td>\n",
       "      <td>0</td>\n",
       "      <td>0</td>\n",
       "      <td>1</td>\n",
       "      <td>0</td>\n",
       "      <td>0</td>\n",
       "    </tr>\n",
       "  </tbody>\n",
       "</table>\n",
       "</div>"
      ],
      "text/plain": [
       "   1900.0  1910.0  1920.0  1930.0  1940.0  1950.0  1960.0  1970.0  1980.0  \\\n",
       "0       0       0       0       0       0       0       0       0       0   \n",
       "1       0       0       0       0       0       0       0       0       0   \n",
       "2       0       0       0       0       0       0       0       0       0   \n",
       "3       0       0       0       0       0       0       0       0       0   \n",
       "4       0       0       0       0       0       0       0       0       0   \n",
       "\n",
       "   1990.0  2000.0  2010.0  \n",
       "0       1       0       0  \n",
       "1       1       0       0  \n",
       "2       1       0       0  \n",
       "3       1       0       0  \n",
       "4       1       0       0  "
      ]
     },
     "execution_count": 50,
     "metadata": {},
     "output_type": "execute_result"
    }
   ],
   "source": [
    "movie_decades = pd.get_dummies(movies['decade']) \n",
    "# get_dummies() turns categorical variables into binary ones\n",
    "movie_decades.head()\n",
    "#movie_decades.tail()"
   ]
  },
  {
   "cell_type": "markdown",
   "id": "c66a1db4-e72b-499e-8574-83bfabfa469a",
   "metadata": {},
   "source": [
    "Next, we can combine the genres and decades features that we just manipulated through concatenation:"
   ]
  },
  {
   "cell_type": "code",
   "execution_count": 51,
   "id": "5cecee5d-4e58-46c3-a324-0bec90b97cf6",
   "metadata": {},
   "outputs": [
    {
     "data": {
      "text/html": [
       "<div>\n",
       "<style scoped>\n",
       "    .dataframe tbody tr th:only-of-type {\n",
       "        vertical-align: middle;\n",
       "    }\n",
       "\n",
       "    .dataframe tbody tr th {\n",
       "        vertical-align: top;\n",
       "    }\n",
       "\n",
       "    .dataframe thead th {\n",
       "        text-align: right;\n",
       "    }\n",
       "</style>\n",
       "<table border=\"1\" class=\"dataframe\">\n",
       "  <thead>\n",
       "    <tr style=\"text-align: right;\">\n",
       "      <th></th>\n",
       "      <th>Adventure</th>\n",
       "      <th>Animation</th>\n",
       "      <th>Children</th>\n",
       "      <th>Comedy</th>\n",
       "      <th>Fantasy</th>\n",
       "      <th>Romance</th>\n",
       "      <th>Drama</th>\n",
       "      <th>Action</th>\n",
       "      <th>Crime</th>\n",
       "      <th>Thriller</th>\n",
       "      <th>...</th>\n",
       "      <th>1920.0</th>\n",
       "      <th>1930.0</th>\n",
       "      <th>1940.0</th>\n",
       "      <th>1950.0</th>\n",
       "      <th>1960.0</th>\n",
       "      <th>1970.0</th>\n",
       "      <th>1980.0</th>\n",
       "      <th>1990.0</th>\n",
       "      <th>2000.0</th>\n",
       "      <th>2010.0</th>\n",
       "    </tr>\n",
       "  </thead>\n",
       "  <tbody>\n",
       "    <tr>\n",
       "      <th>0</th>\n",
       "      <td>1</td>\n",
       "      <td>1</td>\n",
       "      <td>1</td>\n",
       "      <td>1</td>\n",
       "      <td>1</td>\n",
       "      <td>0</td>\n",
       "      <td>0</td>\n",
       "      <td>0</td>\n",
       "      <td>0</td>\n",
       "      <td>0</td>\n",
       "      <td>...</td>\n",
       "      <td>0</td>\n",
       "      <td>0</td>\n",
       "      <td>0</td>\n",
       "      <td>0</td>\n",
       "      <td>0</td>\n",
       "      <td>0</td>\n",
       "      <td>0</td>\n",
       "      <td>1</td>\n",
       "      <td>0</td>\n",
       "      <td>0</td>\n",
       "    </tr>\n",
       "    <tr>\n",
       "      <th>1</th>\n",
       "      <td>1</td>\n",
       "      <td>0</td>\n",
       "      <td>1</td>\n",
       "      <td>0</td>\n",
       "      <td>1</td>\n",
       "      <td>0</td>\n",
       "      <td>0</td>\n",
       "      <td>0</td>\n",
       "      <td>0</td>\n",
       "      <td>0</td>\n",
       "      <td>...</td>\n",
       "      <td>0</td>\n",
       "      <td>0</td>\n",
       "      <td>0</td>\n",
       "      <td>0</td>\n",
       "      <td>0</td>\n",
       "      <td>0</td>\n",
       "      <td>0</td>\n",
       "      <td>1</td>\n",
       "      <td>0</td>\n",
       "      <td>0</td>\n",
       "    </tr>\n",
       "    <tr>\n",
       "      <th>2</th>\n",
       "      <td>0</td>\n",
       "      <td>0</td>\n",
       "      <td>0</td>\n",
       "      <td>1</td>\n",
       "      <td>0</td>\n",
       "      <td>1</td>\n",
       "      <td>0</td>\n",
       "      <td>0</td>\n",
       "      <td>0</td>\n",
       "      <td>0</td>\n",
       "      <td>...</td>\n",
       "      <td>0</td>\n",
       "      <td>0</td>\n",
       "      <td>0</td>\n",
       "      <td>0</td>\n",
       "      <td>0</td>\n",
       "      <td>0</td>\n",
       "      <td>0</td>\n",
       "      <td>1</td>\n",
       "      <td>0</td>\n",
       "      <td>0</td>\n",
       "    </tr>\n",
       "    <tr>\n",
       "      <th>3</th>\n",
       "      <td>0</td>\n",
       "      <td>0</td>\n",
       "      <td>0</td>\n",
       "      <td>1</td>\n",
       "      <td>0</td>\n",
       "      <td>1</td>\n",
       "      <td>1</td>\n",
       "      <td>0</td>\n",
       "      <td>0</td>\n",
       "      <td>0</td>\n",
       "      <td>...</td>\n",
       "      <td>0</td>\n",
       "      <td>0</td>\n",
       "      <td>0</td>\n",
       "      <td>0</td>\n",
       "      <td>0</td>\n",
       "      <td>0</td>\n",
       "      <td>0</td>\n",
       "      <td>1</td>\n",
       "      <td>0</td>\n",
       "      <td>0</td>\n",
       "    </tr>\n",
       "    <tr>\n",
       "      <th>4</th>\n",
       "      <td>0</td>\n",
       "      <td>0</td>\n",
       "      <td>0</td>\n",
       "      <td>1</td>\n",
       "      <td>0</td>\n",
       "      <td>0</td>\n",
       "      <td>0</td>\n",
       "      <td>0</td>\n",
       "      <td>0</td>\n",
       "      <td>0</td>\n",
       "      <td>...</td>\n",
       "      <td>0</td>\n",
       "      <td>0</td>\n",
       "      <td>0</td>\n",
       "      <td>0</td>\n",
       "      <td>0</td>\n",
       "      <td>0</td>\n",
       "      <td>0</td>\n",
       "      <td>1</td>\n",
       "      <td>0</td>\n",
       "      <td>0</td>\n",
       "    </tr>\n",
       "  </tbody>\n",
       "</table>\n",
       "<p>5 rows × 31 columns</p>\n",
       "</div>"
      ],
      "text/plain": [
       "   Adventure  Animation  Children  Comedy  Fantasy  Romance  Drama  Action  \\\n",
       "0          1          1         1       1        1        0      0       0   \n",
       "1          1          0         1       0        1        0      0       0   \n",
       "2          0          0         0       1        0        1      0       0   \n",
       "3          0          0         0       1        0        1      1       0   \n",
       "4          0          0         0       1        0        0      0       0   \n",
       "\n",
       "   Crime  Thriller  ...  1920.0  1930.0  1940.0  1950.0  1960.0  1970.0  \\\n",
       "0      0         0  ...       0       0       0       0       0       0   \n",
       "1      0         0  ...       0       0       0       0       0       0   \n",
       "2      0         0  ...       0       0       0       0       0       0   \n",
       "3      0         0  ...       0       0       0       0       0       0   \n",
       "4      0         0  ...       0       0       0       0       0       0   \n",
       "\n",
       "   1980.0  1990.0  2000.0  2010.0  \n",
       "0       0       1       0       0  \n",
       "1       0       1       0       0  \n",
       "2       0       1       0       0  \n",
       "3       0       1       0       0  \n",
       "4       0       1       0       0  \n",
       "\n",
       "[5 rows x 31 columns]"
      ]
     },
     "execution_count": 51,
     "metadata": {},
     "output_type": "execute_result"
    }
   ],
   "source": [
    "movie_features = pd.concat([movies[genres], movie_decades], axis = 1)\n",
    "# concat() concatenates (appends) genres and decades into a single dataframe\n",
    "movie_features.head()\n",
    "#movie_features.tail()"
   ]
  },
  {
   "cell_type": "markdown",
   "id": "e2287c2b-27a9-43cc-bb66-360d357c5f0d",
   "metadata": {},
   "source": [
    "So now that we have all of our features in one dataframe, we can finally start building the recommender."
   ]
  },
  {
   "cell_type": "code",
   "execution_count": 52,
   "id": "6fe045c8-ca34-4278-baf2-596fe5446b88",
   "metadata": {},
   "outputs": [
    {
     "name": "stdout",
     "output_type": "stream",
     "text": [
      "Dimensions of our movie features cosine similarity matrix: (9718, 9718)\n"
     ]
    }
   ],
   "source": [
    "from sklearn.metrics.pairwise import cosine_similarity\n",
    "# we're using cosine similarity to measure distance rather than the other\n",
    "# options: https://dataaspirant.com/five-most-popular-similarity-measures-implementation-in-python/\n",
    "# because \"it is very efficient to evaluate, especially for sparse vectors\"\n",
    "\n",
    "cosine_sim = cosine_similarity(movie_features, movie_features)\n",
    "print(f\"Dimensions of our movie features cosine similarity matrix: {cosine_sim.shape}\")"
   ]
  },
  {
   "cell_type": "markdown",
   "id": "f992f35d-4d5f-4ebd-aeef-db8585bbc27f",
   "metadata": {},
   "source": [
    "Our cosine similarity matrix is populated with values between 0 and 1 which represent the degree of similarity between movies along the x and y axes."
   ]
  },
  {
   "cell_type": "markdown",
   "id": "1928d659-c6e6-43cb-af44-f5c01d28bb3d",
   "metadata": {},
   "source": [
    "Next, we'll create our movie finder function.\n",
    "\n",
    "We'll use the python library fuzzywuzzy in case the title that a user enters is misspelled. Therefore, it'll match whatever's closest instead of just not being able to return any info at all. "
   ]
  },
  {
   "cell_type": "code",
   "execution_count": 53,
   "id": "9e8b2cff-18bf-491d-ba03-aa7aa42c50ce",
   "metadata": {},
   "outputs": [
    {
     "name": "stderr",
     "output_type": "stream",
     "text": [
      "/Users/sarakim/opt/anaconda3/envs/ML-pratt/lib/python3.9/site-packages/fuzzywuzzy/fuzz.py:11: UserWarning: Using slow pure-python SequenceMatcher. Install python-Levenshtein to remove this warning\n",
      "  warnings.warn('Using slow pure-python SequenceMatcher. Install python-Levenshtein to remove this warning')\n"
     ]
    }
   ],
   "source": [
    "from fuzzywuzzy import fuzz, process\n",
    "\n",
    "def movie_finder(title):\n",
    "    all_titles = movies['title'].tolist()\n",
    "    closest_match = process.extractOne(title, all_titles)\n",
    "    return closest_match[0]"
   ]
  },
  {
   "cell_type": "markdown",
   "id": "a2342150-f639-44a3-88df-3babe25a0235",
   "metadata": {},
   "source": [
    "We can test it out:"
   ]
  },
  {
   "cell_type": "code",
   "execution_count": 54,
   "id": "e90160b8-9cf3-443a-9043-b4f1e872b39d",
   "metadata": {},
   "outputs": [
    {
     "data": {
      "text/plain": [
       "'GoldenEye (1995)'"
      ]
     },
     "execution_count": 54,
     "metadata": {},
     "output_type": "execute_result"
    }
   ],
   "source": [
    "title = movie_finder('Foldeneye')\n",
    "title"
   ]
  },
  {
   "cell_type": "markdown",
   "id": "8dfa9399-851c-4ea4-9f6b-5fc555bc33c5",
   "metadata": {},
   "source": [
    "Next, to get relevant recommendations for \"GoldenEye,\" we need to find its index in the cosine similarity matrix. So we have to create a movie index mapper which maps a movie title to the index that it represents in our matrix."
   ]
  },
  {
   "cell_type": "code",
   "execution_count": 55,
   "id": "b8ad81e0-9d9a-4ee9-8a8a-8b90e5106728",
   "metadata": {},
   "outputs": [
    {
     "data": {
      "text/plain": [
       "9"
      ]
     },
     "execution_count": 55,
     "metadata": {},
     "output_type": "execute_result"
    }
   ],
   "source": [
    "movie_idx = dict(zip(movies['title'], list(movies.index)))\n",
    "# in this index, the keys are movie titles, and the values are the movie indices\n",
    "idx = movie_idx[title]\n",
    "idx"
   ]
  },
  {
   "cell_type": "markdown",
   "id": "1c1ecaef-f4ae-4eac-bd3f-cd8377ce0d55",
   "metadata": {},
   "source": [
    "So, we can see that \"GoldenEye\" is represented by index 9 in our matrix. To see the 10 most similar movies to \"GoldenEye\":"
   ]
  },
  {
   "cell_type": "code",
   "execution_count": 56,
   "id": "564a4197-2e5a-4123-86a0-319f2c82bd7b",
   "metadata": {},
   "outputs": [],
   "source": [
    "n_recommendations = 10\n",
    "sim_scores = list(enumerate(cosine_sim[idx]))\n",
    "sim_scores = sorted(sim_scores, key=lambda x: x[1], reverse=True)\n",
    "sim_scores = sim_scores[1:(n_recommendations+1)]\n",
    "similar_movies = [i[0] for i in sim_scores]\n",
    "# similar_movies is an array representing GoldenEye's top 10 recommendations"
   ]
  },
  {
   "cell_type": "markdown",
   "id": "0c068b3e-b795-4ab7-8240-80b3c16a1452",
   "metadata": {},
   "source": [
    "We can get the movie titles that correpsond to the 10 recommended movie array positions by either creating an inverse movie_idx mapper or using iloc on the title column of the movies dataframe:"
   ]
  },
  {
   "cell_type": "code",
   "execution_count": 57,
   "id": "dd7e6513-8775-4676-b618-a857c966e1ec",
   "metadata": {},
   "outputs": [
    {
     "name": "stdout",
     "output_type": "stream",
     "text": [
      "Users who watched \"GoldenEye (1995)\" also enjoyed:\n"
     ]
    },
    {
     "data": {
      "text/plain": [
       "84            Broken Arrow (1996)\n",
       "378            Cliffhanger (1993)\n",
       "431     Executive Decision (1996)\n",
       "479     Surviving the Game (1994)\n",
       "592              Rock, The (1996)\n",
       "648         Chain Reaction (1996)\n",
       "754           Maximum Risk (1996)\n",
       "1053            Die Hard 2 (1990)\n",
       "1145              Anaconda (1997)\n",
       "1171               Con Air (1997)\n",
       "Name: title, dtype: object"
      ]
     },
     "execution_count": 57,
     "metadata": {},
     "output_type": "execute_result"
    }
   ],
   "source": [
    "print(f'Users who watched \"{title}\" also enjoyed:')\n",
    "movies['title'].iloc[similar_movies]"
   ]
  },
  {
   "cell_type": "markdown",
   "id": "68d8c853-133f-46fc-b730-6933325f4c18",
   "metadata": {},
   "source": [
    "Let's test the recommender further with other movie titles:"
   ]
  },
  {
   "cell_type": "code",
   "execution_count": 58,
   "id": "a2f3280f-46f0-493c-9e60-0eba8aa8e967",
   "metadata": {},
   "outputs": [],
   "source": [
    "def get_content_based_recommendations(title_string, n_recommendations = 10):\n",
    "    title = movie_finder(title_string)\n",
    "    idx = movie_idx[title]\n",
    "    sim_scores = list(enumerate(cosine_sim[idx]))\n",
    "    sim_scores = sorted(sim_scores, key = lambda x: x[1], reverse = True)\n",
    "    sim_scores = sim_scores[1:(n_recommendations + 1)]\n",
    "    similar_movies = [i[0] for i in sim_scores]\n",
    "    print(f'Users who watched \"{title}\" also enjoyed:')\n",
    "    print(movies['title'].iloc[similar_movies])"
   ]
  },
  {
   "cell_type": "code",
   "execution_count": 59,
   "id": "c4762c06-a0c3-42f7-a7c6-591824f96e4e",
   "metadata": {},
   "outputs": [
    {
     "name": "stdout",
     "output_type": "stream",
     "text": [
      "Users who watched \"Don't Tell Mom the Babysitter's Dead (1991)\" also enjoyed:\n",
      "17                         Four Rooms (1995)\n",
      "18     Ace Ventura: When Nature Calls (1995)\n",
      "58                           Bio-Dome (1996)\n",
      "61                             Friday (1995)\n",
      "79                        Black Sheep (1996)\n",
      "90                          Mr. Wrong (1996)\n",
      "92                      Happy Gilmore (1996)\n",
      "104           Steal Big, Steal Little (1995)\n",
      "108            Flirting With Disaster (1996)\n",
      "113                    Down Periscope (1996)\n",
      "Name: title, dtype: object\n"
     ]
    }
   ],
   "source": [
    "get_content_based_recommendations(\"don't tell mom the babysitter's dead\", 10)"
   ]
  },
  {
   "cell_type": "code",
   "execution_count": 62,
   "id": "159e06b0-d1d3-4793-9c07-72bc1891182f",
   "metadata": {},
   "outputs": [
    {
     "name": "stdout",
     "output_type": "stream",
     "text": [
      "Users who watched \"Adventures of Baron Munchausen, The (1988)\" also enjoyed:\n",
      "3376                Erik the Viking (1989)\n",
      "2233                   Time Bandits (1981)\n",
      "2798    Big Trouble in Little China (1986)\n",
      "1515      Devil and Max Devlin, The (1981)\n",
      "1591      Adventures in Babysitting (1987)\n",
      "1598              Dark Crystal, The (1982)\n",
      "1608        Gods Must Be Crazy, The (1980)\n",
      "1628                    Beetlejuice (1988)\n",
      "1858               Crocodile Dundee (1986)\n",
      "2157                      Excalibur (1981)\n",
      "Name: title, dtype: object\n"
     ]
    }
   ],
   "source": [
    "get_content_based_recommendations(\"The Adventures of Baron Munchausen\", 10)"
   ]
  },
  {
   "cell_type": "code",
   "execution_count": null,
   "id": "12118770-3fbb-4910-b484-03ce0792abd7",
   "metadata": {},
   "outputs": [],
   "source": []
  }
 ],
 "metadata": {
  "kernelspec": {
   "display_name": "Python 3 (ipykernel)",
   "language": "python",
   "name": "python3"
  },
  "language_info": {
   "codemirror_mode": {
    "name": "ipython",
    "version": 3
   },
   "file_extension": ".py",
   "mimetype": "text/x-python",
   "name": "python",
   "nbconvert_exporter": "python",
   "pygments_lexer": "ipython3",
   "version": "3.9.12"
  }
 },
 "nbformat": 4,
 "nbformat_minor": 5
}
